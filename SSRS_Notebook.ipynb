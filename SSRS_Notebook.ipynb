{
    "metadata": {
        "kernelspec": {
            "name": "SQL",
            "display_name": "SQL",
            "language": "sql"
        },
        "language_info": {
            "name": "sql",
            "version": ""
        }
    },
    "nbformat_minor": 2,
    "nbformat": 4,
    "cells": [
        {
            "cell_type": "markdown",
            "source": [
                "|DictionaryValue|Status|DictionaryKey|Notes|Status\n",
                "|---|---|---|---|---|\n",
                "|http://AUBNEDBS05.AU.AP.CBRE.NET/ReportServer|0|SSRS_ReportServerUrl|URL the SSRS Reports - Check with Peter Liebich Before Deleting|0|\n",
                "|http://AUBNEDEV01.AU.AP.CBRE.NET/ReportServer|0|SSRS_ReportServerUrl|URL the SSRS Reports - Check with Peter Liebich Before Deleting|0|\n",
                "|http://AUBNESUP02.AU.AP.CBRE.NET/ReportServer$SQL2005|0|SSRS_ReportServerUrl|URL the SSRS Reports - Check with Peter Liebich Before Deleting|0|\n",
                "|http://AUBNEUATDBS01.AU.AP.CBRE.NET/ReportServer$SQL2005|0|SSRS_ReportServerUrl|URL the SSRS Reports - Check with Peter Liebich Before Deleting|0|\n",
                "|http://AUSDCDBS05.AU.AP.CBRE.NET/ReportServer|0|SSRS_2008R2_ReportServerUrl|URL the SSRS 2008R2 Reports - Check with Peter Liebich Before Deleting|0|\n",
                "|http://AUSDCDBS15.AP.CBRE.NET/ReportServer|0|SSRS_2014_ReportServerUrl|URL the SSRS 2014 Reports - Check with Peter Liebich Before Deleting|0|\n",
                "|http://AUSDCDEMSQL05/ReportServer|0|SSRS_2016_ReportServerUrl|URL the SSRS 2016 Reports - Check with Peter Liebich Before Deleting|0|\n",
                "|http://AUSDCDEVDBS04.AU.AP.CBRE.NET/ReportServer|0|SSRS_2008R2_ReportServerUrl|URL the SSRS 2008R2 Reports - Check with Peter Liebich Before Deleting|0|\n",
                "|http://AUSDCDEVDBS15.AP.CBRE.NET/ReportServer|0|SSRS_2014_ReportServerUrl|URL the SSRS 2014 Reports - Check with Peter Liebich Before Deleting|0|\n",
                "|http://AUSDCDEVSQL02/ReportServer|0|SSRS_2016_ReportServerUrl|URL the SSRS 2016 Reports - Check with Peter Liebich Before Deleting|0|\n",
                "|http://AUSDCDEVSQL05/ReportServer|0|SSRS_2016_ReportServerUrl|URL the SSRS 2016 Reports - Check with Peter Liebich Before Deleting|0|\n",
                "|http://AUSDCSITSQL05/ReportServer|0|SSRS_2016_ReportServerUrl|URL the SSRS 2016 Reports - Check with Peter Liebich Before Deleting|0|\n",
                "|http://AUSDCSQL05/ReportServer|0|SSRS_2016_ReportServerUrl|URL the SSRS 2016 Reports - Check with Peter Liebich Before Deleting|0|\n",
                "|http://AUSDCSUPDBS05.AU.AP.CBRE.NET/ReportServer|0|SSRS_2008R2_ReportServerUrl|URL the SSRS 2008R2 Reports - Check with Peter Liebich Before Deleting|0|\n",
                "|http://AUSDCSUPDBS15/ReportServer|0|SSRS_2014_ReportServerUrl|URL the SSRS 2014 Reports - Check with Peter Liebich Before Deleting|0|\n",
                "|http://AUSDCSUPSQL05.AP.CBRE.NET/ReportServer|0|SSRS_2016_ReportServerUrl|URL the SSRS 2016 Reports - Check with Peter Liebich Before Deleting|0|\n",
                "|http://AUSDCTRNSQL05/ReportServer|0|SSRS_2016_ReportServerUrl|URL the SSRS 2016 Reports - Check with Peter Liebich Before Deleting|0|\n",
                "|http://AUSDCUATDBS05.AU.AP.CBRE.NET/ReportServer|0|SSRS_2008R2_ReportServerUrl|URL the SSRS 2008R2 Reports - Check with Peter Liebich Before Deleting|0|\n",
                "|http://AUSDCUATDBS15/ReportServer|0|SSRS_2014_ReportServerUrl|URL the SSRS 2014 Reports - Check with Peter Liebich Before Deleting|0|\n",
                "|http://AUSDCUATSQL05/ReportServer|0|SSRS_2016_ReportServerUrl|URL the SSRS 2016 Reports - Check with Peter Liebich Before Deleting|0"
            ],
            "metadata": {
                "azdata_cell_guid": "e9d7dfd4-ee6b-43c0-95ba-03c98c12a246"
            }
        }
    ]
}