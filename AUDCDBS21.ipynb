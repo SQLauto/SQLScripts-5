{
    "metadata": {
        "kernelspec": {
            "name": "SQL",
            "display_name": "SQL",
            "language": "sql"
        },
        "language_info": {
            "name": "sql",
            "version": ""
        }
    },
    "nbformat_minor": 2,
    "nbformat": 4,
    "cells": [
        {
            "cell_type": "markdown",
            "source": [
                "\r\n",
                "Main database server for Pacific MRI/Pulse/Pulse Tech\r\n",
                "\r\n",
                "|Name|Purpose|Recovery Model|Compatibility Level|Collation|Last Backup Date|Last Log Backup Date|Data Space Used (KB)|Space Available (KB)|\r\n",
                "|---|---|---|---|---|---|---|---|---|\r\n",
                "|APAC_MobileApps||Simple|110|Latin1_General_CI_AS|22/10/2019 9:10 AM|||\r\n",
                "|AS_EXT_REAS||Full|110|Latin1_General_CI_AS|22/10/2019 9:10 AM|21/06/2019 11:46 PM|198,824|299,344\r\n",
                "|AS_EXT_REAS_Transfer||Full|110|Latin1_General_CI_AS|22/10/2019 9:10 AM|21/06/2019 11:46 PM|17,176|83,272\r\n",
                "|AS_EXT_REAS_Transfer_UPGRADE||Full|110|Latin1_General_CI_AS|22/10/2019 9:10 AM|||\r\n",
                "|AS_EXT_REAS_UPGRADE||Full|110|Latin1_General_CI_AS|22/10/2019 9:10 AM|||\r\n",
                "|DBA||Simple|110|Latin1_General_CI_AS|22/10/2019 9:10 AM|||\r\n",
                "|MRI_AUNZ|Main MRI database for CBRE Pacific|Simple|110|Latin1_General_CI_AS|22/10/2019 9:10 AM||151,453,896|5,131,288\r\n",
                "|MRI_AUNZ_Transfer||Simple|110|SQL_Latin1_General_CP1_CI_AS|22/10/2019 9:10 AM||11,876,024|1,013,080\r\n",
                "|MRI_AUNZ_Transfer_UPGRADE||Simple|110|Latin1_General_CI_AS|22/10/2019 9:10 AM|||\r\n",
                "|MRI_XCH_Transfer||Simple|110|Latin1_General_CI_AS|22/10/2019 9:10 AM|||\r\n",
                "|MRISystem|MRI Security database|Simple|110|Latin1_General_CI_AS|22/10/2019 9:10 AM||709,352|809,912\r\n",
                "|MRIWebState|MRI Web session state storage|Simple|110|Latin1_General_CI_AS|22/10/2019 9:10 AM|||\r\n",
                "|PULSE_ASPIRE||Full|110|Latin1_General_CI_AS|22/10/2019 9:10 AM|||\r\n",
                "|PULSE_ASPIRE_UPGRADE||Full|110|Latin1_General_CI_AS|22/10/2019 9:10 AM|||\r\n",
                "|PULSE_DEMO||Full|110|Latin1_General_CI_AS|22/10/2019 9:10 AM|||\r\n",
                "|PULSE_DEMO_UPGRADE||Full|110|Latin1_General_CI_AS|22/10/2019 9:10 AM|||\r\n",
                "|QIC_dump||Simple|110|SQL_Latin1_General_CP1_CI_AS|22/10/2019 9:10 AM|||\r\n",
                "|SSISDB||Full|110|SQL_Latin1_General_CP1_CI_AS|22/10/2019 9:10 AM|||\r\n",
                "|WSM_AUNZ|Pulse Tech|Simple|110|Latin1_General_CI_AS|22/10/2019 9:10 AM||32,571,600|206,344\r\n",
                "|WSM_AUNZ_DOC|Document Storage|Simple|110|Latin1_General_CI_AS|22/10/2019 9:10 AM||284,353,824|2,308,952\r\n",
                "|WSM_AUNZ_DOC_UPGRADE||Simple|110|Latin1_General_CI_AS|22/10/2019 9:10 AM|||\r\n",
                "|WSM_AUNZ_Transfer||Simple|110|Latin1_General_CI_AS|22/10/2019 9:10 AM||1,240|17,640\r\n",
                "|WSM_AUNZ_Transfer_UPGRADE||Simple|110|Latin1_General_CI_AS|22/10/2019 9:10 AM|||\r\n",
                "|WSM_AUNZ_UPGRADE||Simple|110|Latin1_General_CI_AS|22/10/2019 9:10 AM|||"
            ],
            "metadata": {
                "azdata_cell_guid": "8abf08ac-ab3f-4672-9fd1-149cbb5e2f71"
            }
        }
    ]
}