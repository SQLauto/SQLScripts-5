{
    "metadata": {
        "kernelspec": {
            "name": "SQL",
            "display_name": "SQL",
            "language": "sql"
        },
        "language_info": {
            "name": "sql",
            "version": ""
        }
    },
    "nbformat_minor": 2,
    "nbformat": 4,
    "cells": [
        {
            "cell_type": "markdown",
            "source": [
                "**TODO**\n",
                "1. Cheque posted into 201911 instead of 201910\n",
                "1. Payment Authorisation - 131310 (Eastland) 2,000+ items, grid paging in later MRI X versions\n",
                "1. PM Funds Allocation - PM matches off received deposits, very loose month, 2 sprints\n",
                "1. DB Access/Security - Stefan, Greg, Phil R/W, all others R/O with view access\n",
                "\n",
                "---\n",
                "\n",
                "**DB Servers**\n",
                "- AUSDCDBS21 (PROD)\n",
                "- AUSDCUATDBS21 (UAT)\n",
                "\n",
                "**Databases**\n",
                "- AS_EXT_REAS\n",
                "- AS_EXT_REAS_Transfer\n",
                "- MRI_AUNZ\n",
                "- MRI_AUNZ_Transfer\n",
                "- MRISystem\n",
                "- WSM_AUNZ\n",
                "- WSM_AUNZ_DOC\n",
                "- WSM_AUNZ_Transfer\n",
                "\n",
                "**Workstation Servers**\n",
                "- AUSDCWTS21 (PROD)\n",
                "- AUSDCUATWTS21 (UAT)\n",
                "\n",
                "**Training Server**\n",
                "- AUSDCTRN01\n",
                "\n",
                "\n",
                "\n",
                ""
            ],
            "metadata": {
                "azdata_cell_guid": "82c3327d-ec65-438b-9d2f-83ddd432e9ec"
            }
        }
    ]
}