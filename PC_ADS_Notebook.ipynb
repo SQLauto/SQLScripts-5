{
    "metadata": {
        "kernelspec": {
            "name": "SQL",
            "display_name": "SQL",
            "language": "sql"
        },
        "language_info": {
            "name": "sql",
            "version": ""
        }
    },
    "nbformat_minor": 2,
    "nbformat": 4,
    "cells": [
        {
            "cell_type": "markdown",
            "source": [
                "**DB Servers**\n",
                "- AUSDCDBS21 (PROD)\n",
                "- AUSDCUATDBS21 (UAT)\n",
                "\n",
                "**Databases**\n",
                "- AS_EXT_REAS\n",
                "- AS_EXT_REAS_Transfer\n",
                "- MRI_AUNZ\n",
                "- MRI_AUNZ_Transfer\n",
                "- MRISystem\n",
                "- WSM_AUNZ\n",
                "- WSM_AUNZ_DOC\n",
                "- WSM_AUNZ_Transfer\n",
                "\n",
                "**Workstation Servers**\n",
                "- AUSDCWTS21 (PROD)\n",
                "- AUSDCUATWTS21 (UAT)\n",
                "\n",
                "**Training Server**\n",
                "- AUSDCTRN01\n",
                "\n",
                ""
            ],
            "metadata": {
                "azdata_cell_guid": "82c3327d-ec65-438b-9d2f-83ddd432e9ec"
            }
        }
    ]
}