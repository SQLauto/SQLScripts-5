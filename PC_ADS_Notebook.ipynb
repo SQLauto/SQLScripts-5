{
    "metadata": {
        "kernelspec": {
            "name": "SQL",
            "display_name": "SQL",
            "language": "sql"
        },
        "language_info": {
            "name": "sql",
            "version": ""
        }
    },
    "nbformat_minor": 2,
    "nbformat": 4,
    "cells": [
        {
            "cell_type": "markdown",
            "source": [
                "**TODO**\n",
                "1. Cheque posted into 201911 instead of 201910\n",
                "1. PM Funds Allocation - PM matches off received deposits, very loose month, 2 sprints\n",
                "1. DB Access/Security - Stefan, Greg, Phil R/W, all others R/O with view access\n",
                "\n",
                "---\n",
                "\n",
                "**SERVERS**\n",
                "\n",
                "|Name|Env|RDP|Purpose|\n",
                "|---|---|---|---|\n",
                "|AUSDCDBS21|PROD|N|Main MRI DB Server|\n",
                "|AUSDCWTS21|PROD|N|MRI Windows|\n",
                "|AUSDCWTS02|PROD|N|Cougar 2006 and Cougar v8 extractor tool|\n",
                "|AUSDCPSI01|PROD|N|PSI Capture - OCR tool|\n",
                "|AUSDCTRN01|TRN|N|Runs all MRI components|\n",
                "|AUSDCSUPWTS11|SUP/DEV|N|MRI Windows - where to do changes|\n",
                "|AUSDCSUPAPP11|SUP|N|MRI App server that runs the web reports|\n",
                "|AUSDCUATDBS21|UAT|N|MRI DB Server|\n",
                "|AUSDCUATWTS21|UAT|N|MRI Windows|\n",
                "|AUSDCUATAPP21|UAT|N|MRI App server that runs web reports|\n",
                "\n",
                "\n",
                "**Databases**\n",
                "\n",
                "[AUDCDBS21 Notebook](file://C:/Users/pcarter/Documents/MyScripts/AUDCDBS21.ipynb)\n",
                "\n",
                "\n",
                ""
            ],
            "metadata": {
                "azdata_cell_guid": "82c3327d-ec65-438b-9d2f-83ddd432e9ec"
            }
        }
    ]
}